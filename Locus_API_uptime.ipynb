{
  "nbformat": 4,
  "nbformat_minor": 0,
  "metadata": {
    "colab": {
      "name": "Locus API uptime.ipynb",
      "provenance": [],
      "collapsed_sections": [],
      "authorship_tag": "ABX9TyN6tRedcDvsRm7wdshsKDsS",
      "include_colab_link": true
    },
    "kernelspec": {
      "name": "python3",
      "display_name": "Python 3"
    }
  },
  "cells": [
    {
      "cell_type": "markdown",
      "metadata": {
        "id": "view-in-github",
        "colab_type": "text"
      },
      "source": [
        "<a href=\"https://colab.research.google.com/github/yotix/uriclass/blob/master/Locus_API_uptime.ipynb\" target=\"_parent\"><img src=\"https://colab.research.google.com/assets/colab-badge.svg\" alt=\"Open In Colab\"/></a>"
      ]
    },
    {
      "cell_type": "code",
      "metadata": {
        "id": "I52YSdWBhtFz",
        "colab_type": "code",
        "colab": {}
      },
      "source": [
        "import requests"
      ],
      "execution_count": 0,
      "outputs": []
    },
    {
      "cell_type": "code",
      "metadata": {
        "id": "aYLqKsTjh2Dq",
        "colab_type": "code",
        "colab": {}
      },
      "source": [
        "url = \"https://api.uptimerobot.com/v2/getMonitors\""
      ],
      "execution_count": 0,
      "outputs": []
    },
    {
      "cell_type": "code",
      "metadata": {
        "id": "waIBaZ1Gh-aJ",
        "colab_type": "code",
        "colab": {}
      },
      "source": [
        "payload = \"api_key=ur867245-0db849dc9bd96683cb781d62&format=json&logs=1&custom_uptime_ratios=30\""
      ],
      "execution_count": 0,
      "outputs": []
    },
    {
      "cell_type": "code",
      "metadata": {
        "id": "7S8zP-7kiOXt",
        "colab_type": "code",
        "colab": {}
      },
      "source": [
        "headers = {\n",
        "    'content-type': \"application/x-www-form-urlencoded\",\n",
        "    'cache-control': \"no-cache\"\n",
        "    }"
      ],
      "execution_count": 0,
      "outputs": []
    },
    {
      "cell_type": "code",
      "metadata": {
        "id": "zTIttdIeiREG",
        "colab_type": "code",
        "colab": {}
      },
      "source": [
        "response = requests.request(\"POST\",url, data=payload, headers=headers)"
      ],
      "execution_count": 0,
      "outputs": []
    },
    {
      "cell_type": "code",
      "metadata": {
        "id": "NK1o2llciZcl",
        "colab_type": "code",
        "colab": {}
      },
      "source": [
        "monitors = response.text"
      ],
      "execution_count": 0,
      "outputs": []
    },
    {
      "cell_type": "code",
      "metadata": {
        "id": "21QETdOjiaho",
        "colab_type": "code",
        "colab": {}
      },
      "source": [
        "import json\n",
        "import datetime"
      ],
      "execution_count": 0,
      "outputs": []
    },
    {
      "cell_type": "code",
      "metadata": {
        "id": "eJ7mXAMGinZE",
        "colab_type": "code",
        "colab": {}
      },
      "source": [
        "monitors = json.loads(monitors)\n"
      ],
      "execution_count": 0,
      "outputs": []
    },
    {
      "cell_type": "code",
      "metadata": {
        "id": "oHhVabPofGPg",
        "colab_type": "code",
        "outputId": "15d9577e-e7ae-4439-c1ff-b2474e0e68b9",
        "colab": {
          "base_uri": "https://localhost:8080/",
          "height": 122
        }
      },
      "source": [
        "from google.colab import drive\n",
        "drive.mount('drive')"
      ],
      "execution_count": 0,
      "outputs": [
        {
          "output_type": "stream",
          "text": [
            "Go to this URL in a browser: https://accounts.google.com/o/oauth2/auth?client_id=947318989803-6bn6qk8qdgf4n4g3pfee6491hc0brc4i.apps.googleusercontent.com&redirect_uri=urn%3aietf%3awg%3aoauth%3a2.0%3aoob&response_type=code&scope=email%20https%3a%2f%2fwww.googleapis.com%2fauth%2fdocs.test%20https%3a%2f%2fwww.googleapis.com%2fauth%2fdrive%20https%3a%2f%2fwww.googleapis.com%2fauth%2fdrive.photos.readonly%20https%3a%2f%2fwww.googleapis.com%2fauth%2fpeopleapi.readonly\n",
            "\n",
            "Enter your authorization code:\n",
            "··········\n",
            "Mounted at drive\n"
          ],
          "name": "stdout"
        }
      ]
    },
    {
      "cell_type": "code",
      "metadata": {
        "id": "jipfk6snfGcM",
        "colab_type": "code",
        "colab": {}
      },
      "source": [
        ""
      ],
      "execution_count": 0,
      "outputs": []
    },
    {
      "cell_type": "code",
      "metadata": {
        "id": "qOK9Szs2fGlt",
        "colab_type": "code",
        "colab": {}
      },
      "source": [
        ""
      ],
      "execution_count": 0,
      "outputs": []
    },
    {
      "cell_type": "code",
      "metadata": {
        "id": "JYtG5MYCnCDs",
        "colab_type": "code",
        "colab": {}
      },
      "source": [
        "import pandas as pd"
      ],
      "execution_count": 0,
      "outputs": []
    },
    {
      "cell_type": "code",
      "metadata": {
        "id": "0YVMXe4ynHZI",
        "colab_type": "code",
        "colab": {}
      },
      "source": [
        "df = {}\n",
        "df['Api Name']=[]\n",
        "df['Logs for'] = []\n",
        "df['Started on:'] = []\n",
        "df['Ping interval'] = []\n",
        "df['Downtime Duration'] =  []\n",
        "df['Uptime Ratio'] = []\n",
        "for x in monitors['monitors'][:len(monitors['monitors'])-2]:\n",
        "  df['Api Name'].append(x['friendly_name'])\n",
        "  creation_date= datetime.datetime.fromtimestamp(int(x['create_datetime']))\n",
        "  df['Logs for'].append('last_30_days')\n",
        "  df['Started on:'].append(creation_date.strftime('%h,%d, %Y %H:%M:%S UTC'))\n",
        "  df['Ping interval'].append(str(int(x['interval'])//60) + ' mins')\n",
        "  df['Downtime Duration'].append(str(int(x['custom_down_durations'])//60) + ' mins')\n",
        "  df['Uptime Ratio'].append(x['custom_uptime_ratio']+'%')\n",
        "df = pd.DataFrame.from_dict(df)"
      ],
      "execution_count": 0,
      "outputs": []
    },
    {
      "cell_type": "code",
      "metadata": {
        "id": "mFsOVhY0oSVq",
        "colab_type": "code",
        "colab": {}
      },
      "source": [
        "df.to_csv('api.csv')\n",
        "!cp api.csv \"drive/My Drive\""
      ],
      "execution_count": 0,
      "outputs": []
    },
    {
      "cell_type": "code",
      "metadata": {
        "id": "EXWo40Myf4w5",
        "colab_type": "code",
        "outputId": "8dbb8a69-c3d0-44d7-cddb-4b2a0b7c3ad5",
        "colab": {
          "base_uri": "https://localhost:8080/",
          "height": 235
        }
      },
      "source": [
        "df"
      ],
      "execution_count": 0,
      "outputs": [
        {
          "output_type": "execute_result",
          "data": {
            "text/html": [
              "<div>\n",
              "<style scoped>\n",
              "    .dataframe tbody tr th:only-of-type {\n",
              "        vertical-align: middle;\n",
              "    }\n",
              "\n",
              "    .dataframe tbody tr th {\n",
              "        vertical-align: top;\n",
              "    }\n",
              "\n",
              "    .dataframe thead th {\n",
              "        text-align: right;\n",
              "    }\n",
              "</style>\n",
              "<table border=\"1\" class=\"dataframe\">\n",
              "  <thead>\n",
              "    <tr style=\"text-align: right;\">\n",
              "      <th></th>\n",
              "      <th>Api Name</th>\n",
              "      <th>Logs for</th>\n",
              "      <th>Started on:</th>\n",
              "      <th>Ping interval</th>\n",
              "      <th>Downtime Duration</th>\n",
              "      <th>Uptime Ratio</th>\n",
              "    </tr>\n",
              "  </thead>\n",
              "  <tbody>\n",
              "    <tr>\n",
              "      <th>0</th>\n",
              "      <td>Admin</td>\n",
              "      <td>last_30_days</td>\n",
              "      <td>Apr,11, 2020 03:37:25 UTC</td>\n",
              "      <td>10 mins</td>\n",
              "      <td>2208 mins</td>\n",
              "      <td>93.909%</td>\n",
              "    </tr>\n",
              "    <tr>\n",
              "      <th>1</th>\n",
              "      <td>Backend API</td>\n",
              "      <td>last_30_days</td>\n",
              "      <td>Apr,11, 2020 03:36:51 UTC</td>\n",
              "      <td>10 mins</td>\n",
              "      <td>2238 mins</td>\n",
              "      <td>93.826%</td>\n",
              "    </tr>\n",
              "    <tr>\n",
              "      <th>2</th>\n",
              "      <td>EC2 Application API instance</td>\n",
              "      <td>last_30_days</td>\n",
              "      <td>Feb,08, 2020 13:16:15 UTC</td>\n",
              "      <td>5 mins</td>\n",
              "      <td>0 mins</td>\n",
              "      <td>100.000%</td>\n",
              "    </tr>\n",
              "    <tr>\n",
              "      <th>3</th>\n",
              "      <td>Geocoder API</td>\n",
              "      <td>last_30_days</td>\n",
              "      <td>Feb,09, 2020 14:06:20 UTC</td>\n",
              "      <td>15 mins</td>\n",
              "      <td>2 mins</td>\n",
              "      <td>99.984%</td>\n",
              "    </tr>\n",
              "    <tr>\n",
              "      <th>4</th>\n",
              "      <td>Get Task APi</td>\n",
              "      <td>last_30_days</td>\n",
              "      <td>Feb,09, 2020 14:05:44 UTC</td>\n",
              "      <td>5 mins</td>\n",
              "      <td>0 mins</td>\n",
              "      <td>100.000%</td>\n",
              "    </tr>\n",
              "    <tr>\n",
              "      <th>5</th>\n",
              "      <td>Get User</td>\n",
              "      <td>last_30_days</td>\n",
              "      <td>Feb,10, 2020 09:17:08 UTC</td>\n",
              "      <td>5 mins</td>\n",
              "      <td>0 mins</td>\n",
              "      <td>100.000%</td>\n",
              "    </tr>\n",
              "  </tbody>\n",
              "</table>\n",
              "</div>"
            ],
            "text/plain": [
              "                       Api Name      Logs for  ... Downtime Duration Uptime Ratio\n",
              "0                         Admin  last_30_days  ...         2208 mins      93.909%\n",
              "1                   Backend API  last_30_days  ...         2238 mins      93.826%\n",
              "2  EC2 Application API instance  last_30_days  ...            0 mins     100.000%\n",
              "3                  Geocoder API  last_30_days  ...            2 mins      99.984%\n",
              "4                  Get Task APi  last_30_days  ...            0 mins     100.000%\n",
              "5                      Get User  last_30_days  ...            0 mins     100.000%\n",
              "\n",
              "[6 rows x 6 columns]"
            ]
          },
          "metadata": {
            "tags": []
          },
          "execution_count": 12
        }
      ]
    },
    {
      "cell_type": "markdown",
      "metadata": {
        "id": "7P7B6m2jeXRw",
        "colab_type": "text"
      },
      "source": [
        ""
      ]
    },
    {
      "cell_type": "code",
      "metadata": {
        "id": "xnYXe820ivuT",
        "colab_type": "code",
        "outputId": "c383197f-e300-44e9-8427-bfe427a972df",
        "colab": {
          "base_uri": "https://localhost:8080/",
          "height": 731
        }
      },
      "source": [
        "df = {} \n",
        "for x in monitors['monitors']:\n",
        "  print('Api Name: ',x['friendly_name'])\n",
        "  creation_date = datetime.datetime.fromtimestamp(int(x['create_datetime']))\n",
        "  print('Last 60 days', 'Started on:', creation_date.strftime('%h,%d, %Y %H:%M:%S UTC'))\n",
        "  print('Ping interval', int(x['interval'])//60)\n",
        "  print('Downtime Duration:', int(x['custom_down_durations'])//60,'mins')\n",
        "  print('Uptime Ratio ', x['custom_uptime_ratio'], '%')\n",
        "  print('\\n')"
      ],
      "execution_count": 0,
      "outputs": [
        {
          "output_type": "stream",
          "text": [
            "Api Name:  EC2 Application API instance\n",
            "Last 60 days Started on: Feb,08, 2020 13:16:15 UTC\n",
            "Ping interval 5\n",
            "Downtime Duration: 1 mins\n",
            "Uptime Ratio  99.998 %\n",
            "\n",
            "\n",
            "Api Name:  Geocoder API\n",
            "Last 60 days Started on: Feb,09, 2020 14:06:20 UTC\n",
            "Ping interval 15\n",
            "Downtime Duration: 0 mins\n",
            "Uptime Ratio  100.000 %\n",
            "\n",
            "\n",
            "Api Name:  Get Task APi\n",
            "Last 60 days Started on: Feb,09, 2020 14:05:44 UTC\n",
            "Ping interval 5\n",
            "Downtime Duration: 16 mins\n",
            "Uptime Ratio  99.962 %\n",
            "\n",
            "\n",
            "Api Name:  Get User\n",
            "Last 60 days Started on: Feb,10, 2020 09:17:08 UTC\n",
            "Ping interval 5\n",
            "Downtime Duration: 15 mins\n",
            "Uptime Ratio  99.964 %\n",
            "\n",
            "\n",
            "Api Name:  Partplay\n",
            "Last 60 days Started on: Feb,08, 2020 12:52:01 UTC\n",
            "Ping interval 5\n",
            "Downtime Duration: 0 mins\n",
            "Uptime Ratio  100.000 %\n",
            "\n",
            "\n",
            "Api Name:  Test Status\n",
            "Last 60 days Started on: Feb,13, 2020 05:55:04 UTC\n",
            "Ping interval 5\n",
            "Downtime Duration: 45 mins\n",
            "Uptime Ratio  99.895 %\n",
            "\n",
            "\n"
          ],
          "name": "stdout"
        }
      ]
    },
    {
      "cell_type": "code",
      "metadata": {
        "id": "0ZR0seJli_27",
        "colab_type": "code",
        "colab": {}
      },
      "source": [
        ""
      ],
      "execution_count": 0,
      "outputs": []
    }
  ]
}